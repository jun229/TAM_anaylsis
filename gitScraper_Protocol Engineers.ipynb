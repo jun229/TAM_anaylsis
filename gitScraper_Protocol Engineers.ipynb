{
 "cells": [
  {
   "cell_type": "code",
   "execution_count": null,
   "id": "9fdd351e-9676-4d19-8b13-02b33d42d963",
   "metadata": {},
   "outputs": [
    {
     "name": "stdout",
     "output_type": "stream",
     "text": [
      "\n",
      "Contributors to: mir-protocol/plonky2\n",
      "\n",
      "Contributors to: zcash/halo2\n",
      "\n",
      "Contributors to: risc0/risc0\n",
      "\n",
      "Contributors to: succinctlabs/sp1\n",
      "\n",
      "Contributors to: a16z/jolt\n",
      "\n",
      "✅ Saved to zk_protocol_contributors.csv\n"
     ]
    }
   ],
   "source": [
    "import requests\n",
    "import time\n",
    "import pandas as pd\n",
    "\n",
    "# List of GitHub repos to check\n",
    "repos = [\n",
    "    \"mir-protocol/plonky2\",\n",
    "    \"zcash/halo2\",\n",
    "    \"risc0/risc0\",\n",
    "    \"succinctlabs/sp1\",\n",
    "    \"a16z/jolt\"\n",
    "]\n",
    "\n",
    "# List to store all contributor records\n",
    "all_contributors = []\n",
    "\n",
    "for repo in repos:\n",
    "    print(f\"\\nContributors to: {repo}\")\n",
    "    url = f\"https://api.github.com/repos/{repo}/contributors\"\n",
    "    \n",
    "    response = requests.get(url)\n",
    "    if response.status_code == 403:\n",
    "        print(\"Rate limit hit. Waiting 60 seconds...\")\n",
    "        time.sleep(60)\n",
    "        continue\n",
    "\n",
    "    if response.status_code != 200:\n",
    "        print(f\"Failed to fetch {repo}: {response.status_code}\")\n",
    "        continue\n",
    "\n",
    "    contributors = response.json()\n",
    "    for user in contributors:\n",
    "        username = user.get(\"login\", \"N/A\")\n",
    "        contributions = user.get(\"contributions\", 0)\n",
    "\n",
    "        all_contributors.append({\n",
    "            \"repo\": repo,\n",
    "            \"username\": username,\n",
    "            \"contributions\": contributions\n",
    "        })\n",
    "    \n",
    "    time.sleep(1)  # To avoid hitting rate limits\n",
    "\n",
    "# Convert to DataFrame and save to CSV\n",
    "df = pd.DataFrame(all_contributors)\n",
    "df.to_csv(\"zk_protocol_contributors.csv\", index=False)\n",
    "\n",
    "print(\"\\nSaved to zk_protocol_contributors.csv\")\n"
   ]
  },
  {
   "cell_type": "code",
   "execution_count": null,
   "id": "d8fdb8ad-40d9-447b-a997-d4285afbde7b",
   "metadata": {},
   "outputs": [],
   "source": []
  }
 ],
 "metadata": {
  "kernelspec": {
   "display_name": "Python 3 (ipykernel)",
   "language": "python",
   "name": "python3"
  },
  "language_info": {
   "codemirror_mode": {
    "name": "ipython",
    "version": 3
   },
   "file_extension": ".py",
   "mimetype": "text/x-python",
   "name": "python",
   "nbconvert_exporter": "python",
   "pygments_lexer": "ipython3",
   "version": "3.12.3"
  }
 },
 "nbformat": 4,
 "nbformat_minor": 5
}
