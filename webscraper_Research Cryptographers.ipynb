{
 "cells": [
  {
   "cell_type": "code",
   "execution_count": null,
   "id": "8ffac256-7224-4b04-b6c8-2c746ec2913a",
   "metadata": {},
   "outputs": [],
   "source": [
    "import requests\n",
    "from bs4 import BeautifulSoup\n",
    "import pandas as pd\n",
    "import time\n",
    "\n",
    "base_url = \"https://arxiv.org/search/?query=post-quantum+cryptography&searchtype=all&abstracts=show&order=-announced_date_first&size=50&start=\"\n",
    "\n",
    "num_pages = 5  # 50 x 5 = 250 papers\n",
    "results = []\n",
    "\n",
    "for page in range(num_pages):\n",
    "    url = base_url + str(page * 50)\n",
    "    response = requests.get(url)\n",
    "    soup = BeautifulSoup(response.text, \"html.parser\")\n",
    "\n",
    "    entries = soup.find_all(\"li\", class_=\"arxiv-result\")\n",
    "    for entry in entries:\n",
    "        title = entry.find(\"p\", class_=\"title\").text.strip()\n",
    "        authors = [a.text for a in entry.find(\"p\", class_=\"authors\").find_all(\"a\")]\n",
    "        date = entry.find(\"p\", class_=\"is-size-7\").text.split(\";\")[0].replace(\"Submitted \", \"\").strip()\n",
    "        results.append({\"title\": title, \"authors\": authors, \"date\": date})\n",
    "\n",
    "    time.sleep(1)\n",
    "\n",
    "# Save full paper dataset\n",
    "df_papers = pd.DataFrame(results)\n",
    "#df_papers.to_csv(\"post_quantum_papers_detailed.csv\", index=False)\n",
    "\n",
    "# Author Count\n",
    "flat_authors = [author for paper in results for author in paper[\"authors\"]]\n",
    "author_counts = pd.Series(flat_authors).value_counts().reset_index()\n",
    "author_counts.columns = [\"Author\", \"Paper Count\"]\n",
    "author_counts.to_csv(\"top_post_quantum_authors.csv\", index=False)\n"
   ]
  },
  {
   "cell_type": "code",
   "execution_count": null,
   "id": "0d81aec3-06b2-444b-a7b4-97e3912d096d",
   "metadata": {},
   "outputs": [],
   "source": []
  }
 ],
 "metadata": {
  "kernelspec": {
   "display_name": "Python 3 (ipykernel)",
   "language": "python",
   "name": "python3"
  },
  "language_info": {
   "codemirror_mode": {
    "name": "ipython",
    "version": 3
   },
   "file_extension": ".py",
   "mimetype": "text/x-python",
   "name": "python",
   "nbconvert_exporter": "python",
   "pygments_lexer": "ipython3",
   "version": "3.12.3"
  }
 },
 "nbformat": 4,
 "nbformat_minor": 5
}
