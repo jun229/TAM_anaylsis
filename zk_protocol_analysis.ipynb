{
 "cells": [
  {
   "cell_type": "code",
   "execution_count": 1,
   "id": "8c3c4d1e-c303-4b48-a905-ae760159189f",
   "metadata": {},
   "outputs": [],
   "source": [
    "import pandas as pd\n",
    "import matplotlib.pyplot as plt\n",
    "import numpy as np"
   ]
  },
  {
   "cell_type": "code",
   "execution_count": 2,
   "id": "5963a7b0-07b1-4920-9c94-347dcd45077a",
   "metadata": {},
   "outputs": [
    {
     "data": {
      "text/html": [
       "<div>\n",
       "<style scoped>\n",
       "    .dataframe tbody tr th:only-of-type {\n",
       "        vertical-align: middle;\n",
       "    }\n",
       "\n",
       "    .dataframe tbody tr th {\n",
       "        vertical-align: top;\n",
       "    }\n",
       "\n",
       "    .dataframe thead th {\n",
       "        text-align: right;\n",
       "    }\n",
       "</style>\n",
       "<table border=\"1\" class=\"dataframe\">\n",
       "  <thead>\n",
       "    <tr style=\"text-align: right;\">\n",
       "      <th></th>\n",
       "      <th>repo</th>\n",
       "      <th>username</th>\n",
       "      <th>contributions</th>\n",
       "    </tr>\n",
       "  </thead>\n",
       "  <tbody>\n",
       "    <tr>\n",
       "      <th>0</th>\n",
       "      <td>mir-protocol/plonky2</td>\n",
       "      <td>wborgeaud</td>\n",
       "      <td>1359</td>\n",
       "    </tr>\n",
       "    <tr>\n",
       "      <th>1</th>\n",
       "      <td>mir-protocol/plonky2</td>\n",
       "      <td>npwardberkeley</td>\n",
       "      <td>1107</td>\n",
       "    </tr>\n",
       "    <tr>\n",
       "      <th>2</th>\n",
       "      <td>mir-protocol/plonky2</td>\n",
       "      <td>dlubarov</td>\n",
       "      <td>961</td>\n",
       "    </tr>\n",
       "    <tr>\n",
       "      <th>3</th>\n",
       "      <td>mir-protocol/plonky2</td>\n",
       "      <td>typ3c4t</td>\n",
       "      <td>410</td>\n",
       "    </tr>\n",
       "    <tr>\n",
       "      <th>4</th>\n",
       "      <td>mir-protocol/plonky2</td>\n",
       "      <td>Nashtare</td>\n",
       "      <td>303</td>\n",
       "    </tr>\n",
       "  </tbody>\n",
       "</table>\n",
       "</div>"
      ],
      "text/plain": [
       "                   repo        username  contributions\n",
       "0  mir-protocol/plonky2       wborgeaud           1359\n",
       "1  mir-protocol/plonky2  npwardberkeley           1107\n",
       "2  mir-protocol/plonky2        dlubarov            961\n",
       "3  mir-protocol/plonky2         typ3c4t            410\n",
       "4  mir-protocol/plonky2        Nashtare            303"
      ]
     },
     "execution_count": 2,
     "metadata": {},
     "output_type": "execute_result"
    }
   ],
   "source": [
    "df = pd.read_csv(\"zk_protocol_contributors.csv\")\n",
    "df.head()"
   ]
  },
  {
   "cell_type": "code",
   "execution_count": 5,
   "id": "d2754917-3ba7-43f5-a00d-cad4afaa35f5",
   "metadata": {},
   "outputs": [
    {
     "name": "stdout",
     "output_type": "stream",
     "text": [
      "Total unique contributors across all ZK repos: 139\n"
     ]
    }
   ],
   "source": [
    "# Get total unique contributors (across all repos)\n",
    "total_unique_contributors = df[\"username\"].nunique()\n",
    "print(f\"Total unique contributors across all ZK repos: {total_unique_contributors}\")"
   ]
  },
  {
   "cell_type": "code",
   "execution_count": 6,
   "id": "1ba3ca5b-851e-46c0-87e0-1c0220a6267b",
   "metadata": {},
   "outputs": [
    {
     "name": "stdout",
     "output_type": "stream",
     "text": [
      "\n",
      "Average team size across repos: 30.00\n"
     ]
    },
    {
     "data": {
      "text/html": [
       "<div>\n",
       "<style scoped>\n",
       "    .dataframe tbody tr th:only-of-type {\n",
       "        vertical-align: middle;\n",
       "    }\n",
       "\n",
       "    .dataframe tbody tr th {\n",
       "        vertical-align: top;\n",
       "    }\n",
       "\n",
       "    .dataframe thead th {\n",
       "        text-align: right;\n",
       "    }\n",
       "</style>\n",
       "<table border=\"1\" class=\"dataframe\">\n",
       "  <thead>\n",
       "    <tr style=\"text-align: right;\">\n",
       "      <th></th>\n",
       "      <th>repo</th>\n",
       "      <th>unique_contributors</th>\n",
       "    </tr>\n",
       "  </thead>\n",
       "  <tbody>\n",
       "    <tr>\n",
       "      <th>0</th>\n",
       "      <td>a16z/jolt</td>\n",
       "      <td>30</td>\n",
       "    </tr>\n",
       "    <tr>\n",
       "      <th>1</th>\n",
       "      <td>mir-protocol/plonky2</td>\n",
       "      <td>30</td>\n",
       "    </tr>\n",
       "    <tr>\n",
       "      <th>2</th>\n",
       "      <td>risc0/risc0</td>\n",
       "      <td>30</td>\n",
       "    </tr>\n",
       "    <tr>\n",
       "      <th>3</th>\n",
       "      <td>succinctlabs/sp1</td>\n",
       "      <td>30</td>\n",
       "    </tr>\n",
       "    <tr>\n",
       "      <th>4</th>\n",
       "      <td>zcash/halo2</td>\n",
       "      <td>30</td>\n",
       "    </tr>\n",
       "  </tbody>\n",
       "</table>\n",
       "</div>"
      ],
      "text/plain": [
       "                   repo  unique_contributors\n",
       "0             a16z/jolt                   30\n",
       "1  mir-protocol/plonky2                   30\n",
       "2           risc0/risc0                   30\n",
       "3      succinctlabs/sp1                   30\n",
       "4           zcash/halo2                   30"
      ]
     },
     "metadata": {},
     "output_type": "display_data"
    }
   ],
   "source": [
    "# Get unique contributor count per repo\n",
    "repo_contributor_counts = df.groupby(\"repo\")[\"username\"].nunique().reset_index()\n",
    "repo_contributor_counts.columns = [\"repo\", \"unique_contributors\"]\n",
    "\n",
    "# Calculate average headcount per team\n",
    "average_headcount = repo_contributor_counts[\"unique_contributors\"].mean()\n",
    "print(f\"\\nAverage team size across repos: {average_headcount:.2f}\")\n",
    "\n",
    "display(repo_contributor_counts)\n",
    "# Most likely locked at 30 contributors per repo because I hit the free github API limit"
   ]
  },
  {
   "cell_type": "code",
   "execution_count": null,
   "id": "6ccfd235-df34-4179-a2d9-24ea6154d99d",
   "metadata": {},
   "outputs": [],
   "source": []
  }
 ],
 "metadata": {
  "kernelspec": {
   "display_name": "info2950",
   "language": "python",
   "name": "python3"
  },
  "language_info": {
   "codemirror_mode": {
    "name": "ipython",
    "version": 3
   },
   "file_extension": ".py",
   "mimetype": "text/x-python",
   "name": "python",
   "nbconvert_exporter": "python",
   "pygments_lexer": "ipython3",
   "version": "3.12.3"
  }
 },
 "nbformat": 4,
 "nbformat_minor": 5
}
